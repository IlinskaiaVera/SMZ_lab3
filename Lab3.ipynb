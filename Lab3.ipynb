{
  "nbformat": 4,
  "nbformat_minor": 0,
  "metadata": {
    "colab": {
      "provenance": []
    },
    "kernelspec": {
      "name": "python3",
      "display_name": "Python 3"
    },
    "language_info": {
      "name": "python"
    }
  },
  "cells": [
    {
      "cell_type": "code",
      "execution_count": null,
      "metadata": {
        "id": "BWCwaiKjfdCe"
      },
      "outputs": [],
      "source": [
        "import torch\n",
        "import numpy as np"
      ]
    },
    {
      "cell_type": "markdown",
      "source": [
        "###Реализация функции Convolution Transpose (транспорнированной 2D свёртка)"
      ],
      "metadata": {
        "id": "GWciApcif2Qc"
      }
    },
    {
      "cell_type": "code",
      "source": [
        "def conv_transpose(input, weight, bias = None, stride = 1, padding = 0, output_padding = 0, groups = 1, dilation = 1):\n",
        "\n",
        "    #нахождение размеров изображения и ядра\n",
        "    batch_size, in_channels, in_height, in_width = input.shape\n",
        "    out_channels, in_channels, kernel_height, kernel_width = weight.shape\n",
        "\n",
        "    #нахождение размеров результирующего тензора\n",
        "    out_height = (in_height - 1) * stride - 2 * padding + kernel_height + output_padding\n",
        "    out_width = (in_width - 1) * stride - 2 * padding + kernel_width + output_padding\n",
        "    output = np.zeros((batch_size, out_channels, out_height, out_width))\n",
        "\n",
        "    #проход ядром по тензору\n",
        "    for b in range(batch_size):\n",
        "        for c in range(out_channels):\n",
        "            for i in range(out_height):\n",
        "                for j in range(out_width):\n",
        "                    for k in range(in_channels):\n",
        "                        for s in range(kernel_height):\n",
        "                            for t in range(kernel_width):\n",
        "                                ii = i + padding - s * dilation\n",
        "                                jj = j + padding - t * dilation\n",
        "                                if ii >= 0 and jj >= 0 and ii < in_height * stride and jj < in_width * stride and (ii % stride == 0) and (jj % stride == 0):\n",
        "                                    ii //= stride\n",
        "                                    jj //= stride\n",
        "                                    output[b, c, i, j] += input[b, k, ii, jj] * weight[c, k, s, t]\n",
        "\n",
        "            #по каналам и батчам добавляем смещение\n",
        "            if bias is not None:\n",
        "                output[b, c, :, :] += bias[c]\n",
        "    return output"
      ],
      "metadata": {
        "id": "98Cnyk_Pr_qM"
      },
      "execution_count": 46,
      "outputs": []
    },
    {
      "cell_type": "markdown",
      "source": [
        "###Тест 1"
      ],
      "metadata": {
        "id": "AvEIzsMgiqg8"
      }
    },
    {
      "cell_type": "code",
      "source": [
        "input_data = torch.randn(1, 1, 3, 3)\n",
        "kernel = torch.randn(1, 1, 3, 3)\n",
        "\n",
        "#результат использования нашей функции conv_transpose\n",
        "our_result1 = conv_transpose(input_data.numpy(), kernel.numpy())\n",
        "print(\"Результат использования нашей функции conv_transpose в тесте 1:\")\n",
        "print(our_result1)\n",
        "torch_result1 = torch.nn.functional.conv_transpose2d(input_data, kernel).numpy()\n",
        "print(\"\\nРезультат использования функции conv_transpose2d библиотеки PyTorch в тесте 1:\")\n",
        "print(torch_result1)"
      ],
      "metadata": {
        "id": "Xr1hglHssAB0",
        "colab": {
          "base_uri": "https://localhost:8080/"
        },
        "outputId": "f9355c00-0be1-4fde-c827-40a0cb450cb8"
      },
      "execution_count": 50,
      "outputs": [
        {
          "output_type": "stream",
          "name": "stdout",
          "text": [
            "Результат использования нашей функции conv_transpose в тесте 1:\n",
            "[[[[-2.24578023 -4.33491832  1.12922537  2.54033005 -0.73261225]\n",
            "   [ 0.11532092  3.18368217 -2.25279398 -0.9965588   1.63676402]\n",
            "   [ 7.77387619  1.882065   -3.70488552  0.07098394  1.38933391]\n",
            "   [-0.70864844 -0.87236714  2.11897575 -2.25038504 -1.25848893]\n",
            "   [-1.53664243  2.48185635  1.04869038 -1.54189283 -0.59790146]]]]\n",
            "\n",
            "Результат использования функции conv_transpose2d библиотеки PyTorch в тесте 1:\n",
            "[[[[-2.2457802  -4.3349185   1.1292254   2.54033    -0.73261225]\n",
            "   [ 0.11532092  3.1836822  -2.252794   -0.9965588   1.636764  ]\n",
            "   [ 7.773876    1.882065   -3.704886    0.07098395  1.389334  ]\n",
            "   [-0.70864844 -0.87236714  2.1189756  -2.250385   -1.2584889 ]\n",
            "   [-1.5366424   2.4818563   1.0486903  -1.5418928  -0.59790146]]]]\n"
          ]
        }
      ]
    },
    {
      "cell_type": "markdown",
      "source": [
        "###Тест 2"
      ],
      "metadata": {
        "id": "6_pHkhR54SmI"
      }
    },
    {
      "cell_type": "code",
      "source": [
        "input_data = torch.randn(1, 1, 3, 3)\n",
        "kernel = torch.randn(1, 1, 3, 3)\n",
        "\n",
        "#результат использования нашей функции conv_transpose\n",
        "our_result2 = conv_transpose(input_data.numpy(), kernel.numpy())\n",
        "print(\"Результат использования нашей функции conv_transpose в тесте 2:\")\n",
        "print(our_result2)\n",
        "torch_result2 = torch.nn.functional.conv_transpose2d(input_data, kernel).numpy()\n",
        "print(\"\\nРезультат использования функции conv_transpose2d библиотеки PyTorch в тесте 2:\")\n",
        "print(torch_result2)"
      ],
      "metadata": {
        "colab": {
          "base_uri": "https://localhost:8080/"
        },
        "id": "JkXMq4ts4Uo2",
        "outputId": "9c401faa-b0de-42ac-c3c4-9a3965d51655"
      },
      "execution_count": 51,
      "outputs": [
        {
          "output_type": "stream",
          "name": "stdout",
          "text": [
            "Результат использования нашей функции conv_transpose в тесте 2:\n",
            "[[[[ 4.37069505e-01  2.04331493e+00  2.36251839e+00  7.86548853e-02\n",
            "    -1.42741203e-01]\n",
            "   [-1.32733382e+00 -2.61703885e+00 -3.85363430e-01 -5.94876617e-01\n",
            "     3.75289634e-01]\n",
            "   [-7.01490775e-01 -4.03692688e+00 -2.86256826e+00  1.08673556e-01\n",
            "    -2.76908268e-01]\n",
            "   [ 1.10066546e+00  1.32203570e+00 -1.79108575e+00  5.68660529e-01\n",
            "     3.87719083e-02]\n",
            "   [-1.62573785e-01  6.54389977e-01  1.18848924e+00  3.67412502e-02\n",
            "    -3.19067709e-04]]]]\n",
            "\n",
            "Результат использования функции conv_transpose2d библиотеки PyTorch в тесте 2:\n",
            "[[[[ 4.37069505e-01  2.04331493e+00  2.36251831e+00  7.86548853e-02\n",
            "    -1.42741203e-01]\n",
            "   [-1.32733381e+00 -2.61703897e+00 -3.85363400e-01 -5.94876647e-01\n",
            "     3.75289619e-01]\n",
            "   [-7.01490760e-01 -4.03692675e+00 -2.86256814e+00  1.08673535e-01\n",
            "    -2.76908278e-01]\n",
            "   [ 1.10066545e+00  1.32203579e+00 -1.79108572e+00  5.68660498e-01\n",
            "     3.87719087e-02]\n",
            "   [-1.62573785e-01  6.54389977e-01  1.18848920e+00  3.67412493e-02\n",
            "    -3.19067709e-04]]]]\n"
          ]
        }
      ]
    },
    {
      "cell_type": "markdown",
      "source": [
        "###Тест 3"
      ],
      "metadata": {
        "id": "1rEburnW4fTQ"
      }
    },
    {
      "cell_type": "code",
      "source": [
        "input_data = torch.randn(1, 1, 3, 3)\n",
        "kernel = torch.randn(1, 1, 3, 3)\n",
        "\n",
        "#результат использования нашей функции conv_transpose\n",
        "our_result3 = conv_transpose(input_data.numpy(), kernel.numpy())\n",
        "print(\"Результат использования нашей функции conv_transpose в тесте 3:\")\n",
        "print(our_result3)\n",
        "torch_result3 = torch.nn.functional.conv_transpose2d(input_data, kernel).numpy()\n",
        "print(\"\\nРезультат использования функции conv_transpose2d библиотеки PyTorch в тесте 3:\")\n",
        "print(torch_result3)"
      ],
      "metadata": {
        "colab": {
          "base_uri": "https://localhost:8080/"
        },
        "id": "Vm0BZblZ4gGS",
        "outputId": "7e50a3e3-ea57-4830-b63e-3ea621fd8991"
      },
      "execution_count": 52,
      "outputs": [
        {
          "output_type": "stream",
          "name": "stdout",
          "text": [
            "Результат использования нашей функции conv_transpose в тесте 3:\n",
            "[[[[-7.19591618e-01  8.73012945e-01  1.81433323e+00 -1.69575940e+00\n",
            "    -7.51717448e-01]\n",
            "   [ 1.16713384e+00  1.30789648e+00 -4.54038842e+00 -2.47882971e+00\n",
            "     2.83663046e+00]\n",
            "   [-1.06749803e-01 -1.86700706e+00  1.67162266e+00  1.51970905e+00\n",
            "    -1.25779215e+00]\n",
            "   [-5.68770856e-01 -1.64393098e+00  2.46706977e-03 -5.34820162e-01\n",
            "     5.97156867e-01]\n",
            "   [ 7.21489310e-01 -8.56392607e-02  4.15331200e-01 -7.52089703e-02\n",
            "     4.01260369e-02]]]]\n",
            "\n",
            "Результат использования функции conv_transpose2d библиотеки PyTorch в тесте 3:\n",
            "[[[[-7.1959162e-01  8.7301296e-01  1.8143333e+00 -1.6957594e+00\n",
            "    -7.5171745e-01]\n",
            "   [ 1.1671338e+00  1.3078965e+00 -4.5403886e+00 -2.4788299e+00\n",
            "     2.8366303e+00]\n",
            "   [-1.0674980e-01 -1.8670070e+00  1.6716226e+00  1.5197091e+00\n",
            "    -1.2577922e+00]\n",
            "   [-5.6877089e-01 -1.6439310e+00  2.4670549e-03 -5.3482020e-01\n",
            "     5.9715688e-01]\n",
            "   [ 7.2148931e-01 -8.5639261e-02  4.1533118e-01 -7.5208969e-02\n",
            "     4.0126037e-02]]]]\n"
          ]
        }
      ]
    }
  ]
}